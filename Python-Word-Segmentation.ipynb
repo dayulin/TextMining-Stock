{
 "cells": [
  {
   "cell_type": "markdown",
   "metadata": {},
   "source": [
    "# Python 中文斷詞斷句"
   ]
  },
  {
   "cell_type": "markdown",
   "metadata": {},
   "source": [
    "<p style=\"font-weight:bold;color:#FFBB00;color:#FFBB00;font-size:18px;\">Import所需套件</p>"
   ]
  },
  {
   "cell_type": "code",
   "execution_count": 1,
   "metadata": {},
   "outputs": [],
   "source": [
    "import jieba\n"
   ]
  },
  {
   "cell_type": "markdown",
   "metadata": {},
   "source": [
    "<h2 style=\"color:#E63F00\">1. 讀取台積電新聞</h2>"
   ]
  },
  {
   "cell_type": "code",
   "execution_count": 2,
   "metadata": {},
   "outputs": [
    {
     "name": "stderr",
     "output_type": "stream",
     "text": [
      "Building prefix dict from the default dictionary ...\n",
      "Loading model from cache C:\\Users\\genio\\AppData\\Local\\Temp\\jieba.cache\n",
      "Loading model cost 1.134 seconds.\n",
      "Prefix dict has been built succesfully.\n"
     ]
    }
   ],
   "source": [
    "jieba.load_userdict(\"C:/Users/genio/algorithm/WordBank.txt\")  \n",
    "\n",
    "# 匯入辭庫(將讀取的路徑寫下來)\n",
    "\n",
    "ret = open(\"C:/Users/genio/algorithm/TSMC_1001.txt\", \"r\").read()\n",
    "\n",
    "# 讀取文章(將讀取的路徑寫下來)"
   ]
  },
  {
   "cell_type": "code",
   "execution_count": 3,
   "metadata": {},
   "outputs": [
    {
     "name": "stdout",
     "output_type": "stream",
     "text": [
      "2017年10月02日 21:26 \n",
      "台積電董事長張忠謀將於明年6月股東會後引退，財信傳媒董事長謝金河在第一時間直覺張忠謀這次是完全放下、交棒了。謝金河同時稱讚張忠謀是創造台灣價值的瑰寶，帶領台積電30年功成身退，來者恐怕難以超越，台積電的股東永遠不會忘記他。\n",
      "\n",
      "台積電因張忠謀利空急殺？股市大戶：這麼操作就對了\n",
      "張忠謀要退休 外資圈對台積電後市看法是…\n",
      "張忠謀：今年初萌生退休念頭 不擔心客戶轉單\n",
      "謝金河在臉書貼文表示，張忠謀在毫無預警下宣布退休，並擬定雙首長制，由劉德音擔任董事長，魏哲家出任總裁，有一點執行長的味道。他在第一時間直覺張忠謀這回是完全放下了、完全交棒了，也顯示他對親自挑選的兩位接班人完全滿意，只是一山有二虎，未來兩大當家會不會不合，造成內鬨？恐怕有待時間證明。\n",
      "\n",
      "張忠謀說未來退休後要偕夫人、三個女兒，以及孫子們坐遊輪一起去旅行，還有坐飛機到以前想去但沒時間去的地方，或去過還想再去的地方去旅行。他也不忘重拾橋牌的樂趣，還有?讀及撰寫自傳的下集。何時開始想要退休？張說是今年初，謝金河解讀，這似乎是農曆新年在夏威夷度假摔倒後，開始動了退休的念頭。\n",
      "\n",
      "今天全程看完記者會現場直播的謝金河表示，張忠謀選定接班人，要用他自認最Outstanding的董事會來維持公司運作，其從容態度讓人對台積電的未來很放心。謝金河說，過去市場只要傳出張忠謀退休的消息，台積電股價都會下跌，但今天第一時間觀察台積電ADR期貨盤股價上漲1.65%，顯示Nasdaq市場中性偏樂觀。\n"
     ]
    }
   ],
   "source": [
    "print(ret)"
   ]
  },
  {
   "cell_type": "markdown",
   "metadata": {},
   "source": [
    "<h2 style=\"color:#E63F00\">2. 結巴斷詞斷句</h2>"
   ]
  },
  {
   "cell_type": "code",
   "execution_count": 4,
   "metadata": {
    "collapsed": true
   },
   "outputs": [],
   "source": [
    "seglist = jieba.cut(ret, cut_all=False)\n",
    "\n",
    "# 將讀取的資料以結巴斷詞斷句"
   ]
  },
  {
   "cell_type": "code",
   "execution_count": 5,
   "metadata": {},
   "outputs": [
    {
     "name": "stdout",
     "output_type": "stream",
     "text": [
      "2017/年/10/月/02/日/ /21/:/26/ /\n",
      "/台積電/董事/長/張忠謀/將於/明年/6/月/股東會/後/引退/，/財信/傳媒/董事/長/謝金河/在/第一/時間/直覺/張忠謀/這次/是/完全/放下/、/交棒/了/。/謝金河/同時/稱/讚/張忠謀/是/創造/台灣/價值/的/瑰/寶/，/帶/領台/積電/30/年/功成身退/，/來者/恐怕/難以/超越/，/台積電/的/股/東永遠/不會/忘記/他/。/\n",
      "/\n",
      "/台積/電因/張忠謀/利空/急殺/？/股市/大戶/：/這麼/操作/就/對/了/\n",
      "/張忠謀/要/退休/ /外資圈/對/台積/電後市/看法/是/…/\n",
      "/張忠謀/：/今年初/萌生/退休/念頭/ /不/擔心/客戶/轉單/\n",
      "/謝金河/在/臉書/貼文/表示/，/張忠謀/在/毫無/預警/下/宣布/退休/，/並擬定/雙首長/制/，/由/劉德音/擔任/董事/長/，/魏哲家/出任/總裁/，/有/一點/執行長/的/味道/。/他/在/第一/時間/直覺/張忠謀/這回/是/完全/放下/了/、/完全/交棒/了/，/也/顯示/他/對/親自/挑選/的/兩位/接班人/完全/滿意/，/只是/一山/有二虎/，/未來/兩大/當家會/不會/不合/，/造成/內/鬨/？/恐怕/有待/時間/證明/。/\n",
      "/\n",
      "/張忠謀/說/未來/退休/後/要/偕/夫人/、/三個/女兒/，/以及/孫子們/坐遊輪/一起/去/旅行/，/還有/坐/飛機/到/以前/想/去/但/沒/時間/去/的/地方/，/或/去過/還想/再/去/的/地方/去/旅行/。/他/也/不/忘/重拾/橋牌/的/樂趣/，/還有/?/讀及/撰/寫/自傳/的/下集/。/何時/開始/想要/退休/？/張說/是/今年初/，/謝金河/解讀/，/這/似乎/是/農/曆/新年/在/夏威夷/度假/摔倒/後/，/開始動/了/退休/的/念頭/。/\n",
      "/\n",
      "/今天/全程/看/完記者/會/現場/直播/的/謝金河/表示/，/張忠謀/選定/接班人/，/要用/他/自認/最/Outstanding/的/董事/會來/維持/公司/運作/，/其/從/容態度/讓/人/對/台/積電/的/未來/很/放心/。/謝金河/說/，/過去/市場/只要/傳出/張忠謀/退休/的/消息/，/台積/電股/價都會/下跌/，/但/今天/第一/時間/觀察/台積電ADR/期貨盤/股價/上/漲/1.65%/，/顯示/Nasdaq/市場/中性/偏樂觀/。\n"
     ]
    }
   ],
   "source": [
    "print(\"/\".join(seglist))"
   ]
  },
  {
   "cell_type": "markdown",
   "metadata": {},
   "source": [
    "<h2 style=\"color:#E63F00\">3. 字頻統計並匯出檔案</h2>"
   ]
  },
  {
   "cell_type": "code",
   "execution_count": 6,
   "metadata": {},
   "outputs": [],
   "source": [
    "\n",
    "hash = {}\n",
    "\n",
    "for item in seglist:\n",
    "    if item in hash:\n",
    "        hash[item] +=1\n",
    "    else:\n",
    "        hash[item] =1\n",
    "\n",
    "fa = open(\"count.csv\", \"w\")\n",
    "\n",
    "for k in hash:\n",
    "    fa.write(\"%s,%d\\n\"%(k,hash[k]))\n",
    "\n",
    "fa.close()\n",
    "\n",
    "# 計算斷詞斷句字頻，並輸出成csv檔\n",
    "\n"
   ]
  }
 ],
 "metadata": {
  "kernelspec": {
   "display_name": "Python 3",
   "language": "python",
   "name": "python3"
  },
  "language_info": {
   "codemirror_mode": {
    "name": "ipython",
    "version": 3
   },
   "file_extension": ".py",
   "mimetype": "text/x-python",
   "name": "python",
   "nbconvert_exporter": "python",
   "pygments_lexer": "ipython3",
   "version": "3.6.3"
  }
 },
 "nbformat": 4,
 "nbformat_minor": 2
}
